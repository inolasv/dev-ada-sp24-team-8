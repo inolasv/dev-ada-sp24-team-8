{
 "cells": [
  {
   "cell_type": "code",
   "execution_count": 1,
   "metadata": {},
   "outputs": [
    {
     "name": "stderr",
     "output_type": "stream",
     "text": [
      "/Users/nyssaaftab/Library/Python/3.9/lib/python/site-packages/urllib3/__init__.py:35: NotOpenSSLWarning: urllib3 v2 only supports OpenSSL 1.1.1+, currently the 'ssl' module is compiled with 'LibreSSL 2.8.3'. See: https://github.com/urllib3/urllib3/issues/3020\n",
      "  warnings.warn(\n"
     ]
    }
   ],
   "source": [
    "from bs4 import BeautifulSoup\n",
    "import requests"
   ]
  },
  {
   "cell_type": "code",
   "execution_count": null,
   "metadata": {},
   "outputs": [],
   "source": [
    "\"\"\"\n",
    "website = 'https://subslikescript.com/movie/Titanic-120338'\n",
    "result = requests.get(website)\n",
    "content = result.text\n",
    "\n",
    "soup = BeautifulSoup(content, 'lxml')\n",
    "# print(soup.prettify())\n",
    "\n",
    "box = soup.find('article', class_='main-article')\n",
    "title = box.find('h1').get_text()\n",
    "print(title)\n",
    "\n",
    "transcript = box.find('div', class_='full-script').get_text(strip=True, separator=' ')\n",
    "print(transcript)\n",
    "\"\"\"\n"
   ]
  },
  {
   "cell_type": "code",
   "execution_count": 21,
   "metadata": {},
   "outputs": [
    {
     "name": "stdout",
     "output_type": "stream",
     "text": [
      "Free People jacquard jacket blazer\n",
      "This rare Free People blazer is stunning! Photos don’t do her justice. \n",
      "Rich navy blue with burgundy & gold \n",
      "Buttons line the bottom of sleeves \n",
      "2 button closure\n",
      "Comes with original tag & extra button \n",
      "Perfect condition \n",
      "Jacquard \n",
      "Retail which I paid was $168.00 ! \n",
      "Tag is in pocket \n",
      "\n",
      "TRUEST COLOR SHOWN IN video & PHOTOS TWO-SEVEN\n",
      "Very hard to capture because all photos were taken in natural light. iPhone doesn’t capture gorgeous texture in all pix. \n",
      "\n",
      "APPROXIMATE MEASUREMENTS:\n",
      "L: 19” bust 18” sleeve 25”\n",
      "\n",
      "Size S/petite\n"
     ]
    }
   ],
   "source": [
    "website = 'https://poshmark.com/listing/Free-People-jacquard-jacket-blazer-64407f7c24237a32e46ea10a'\n",
    "result = requests.get(website)\n",
    "content = result.text\n",
    "\n",
    "soup = BeautifulSoup(content, 'lxml')\n",
    "#print(soup.prettify())\n",
    "\n",
    "title = soup.find('h1', class_=\"fw--light m--r--2 listing__title-container\").get_text(strip=True, separator = ' ')\n",
    "desc = soup.find('div', class_='listing__description fw--light').get_text(strip=True, separator = ' ')\n",
    "print(title)\n",
    "print(desc)\n"
   ]
  },
  {
   "cell_type": "code",
   "execution_count": null,
   "metadata": {},
   "outputs": [],
   "source": []
  }
 ],
 "metadata": {
  "kernelspec": {
   "display_name": "Python 3",
   "language": "python",
   "name": "python3"
  },
  "language_info": {
   "codemirror_mode": {
    "name": "ipython",
    "version": 3
   },
   "file_extension": ".py",
   "mimetype": "text/x-python",
   "name": "python",
   "nbconvert_exporter": "python",
   "pygments_lexer": "ipython3",
   "version": "3.9.6"
  },
  "orig_nbformat": 4
 },
 "nbformat": 4,
 "nbformat_minor": 2
}
